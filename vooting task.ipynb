{
 "cells": [
  {
   "cell_type": "code",
   "execution_count": 2,
   "id": "e8efa219",
   "metadata": {},
   "outputs": [
    {
     "name": "stdout",
     "output_type": "stream",
     "text": [
      "Candidate: Ali, Votes: 3\n",
      "Candidate: sara, Votes: 2\n",
      "Candidate: Ahmed, Votes: 1\n"
     ]
    }
   ],
   "source": [
    "class Candidate:\n",
    "    def __init__(self, name):\n",
    "        self.name = name\n",
    "        self.votes = 0\n",
    "\n",
    "    def add_vote(self):\n",
    "        self.votes += 1\n",
    "\n",
    "    def display(self):\n",
    "        print(f\"Candidate: {self.name}, Votes: {self.votes}\")\n",
    "\n",
    "\n",
    "candidate1 = Candidate(\"Ali\")\n",
    "candidate2 = Candidate(\"sara\")\n",
    "candidate3 = Candidate(\"Ahmed\")\n",
    "\n",
    "candidate1.add_vote()\n",
    "candidate1.add_vote()\n",
    "candidate2.add_vote()\n",
    "candidate3.add_vote()\n",
    "candidate1.add_vote()\n",
    "candidate2.add_vote()\n",
    "\n",
    "\n",
    "candidate1.display()  \n",
    "candidate2.display()\n",
    "candidate3.display()"
   ]
  },
  {
   "cell_type": "code",
   "execution_count": 2,
   "id": "97bd1ca6",
   "metadata": {},
   "outputs": [
    {
     "name": "stdout",
     "output_type": "stream",
     "text": [
      "Candidates: ['Ali', 'Sara', 'Ahmed']\n",
      "Candidate 'Rahma' not found!\n",
      "Number of votes for Ali: 3\n",
      "Number of votes for Sara: 2\n",
      "Number of votes for Ahmed: 1\n",
      "No such candidate 'Rahma'\n",
      "The winner is 'Ali' with 3 votes.\n"
     ]
    }
   ],
   "source": [
    "class Candidate:\n",
    "    def __init__(self, name):\n",
    "        self.name = name\n",
    "        self.votes = 0\n",
    "\n",
    "    def add_vote(self):\n",
    "        self.votes += 1\n",
    "\n",
    "    def display(self):\n",
    "        print(f\"Candidate: {self.name}, Votes: {self.votes}\")\n",
    "\n",
    "\n",
    "class VotingSystem:\n",
    "    def __init__(self):\n",
    "        self.candidates = []\n",
    "\n",
    "    def add_candidate(self, name):\n",
    "        self.candidates.append(Candidate(name))\n",
    "\n",
    "    def vote_for_candidate(self, candidate_name):\n",
    "        \n",
    "        candidate = next((cand for cand in self.candidates if cand.name == candidate_name), None)\n",
    "        if candidate:\n",
    "            candidate.add_vote()\n",
    "        else:\n",
    "            print(f\"Candidate '{candidate_name}' not found!\")\n",
    "\n",
    "    def get_result_of_candidate(self, candidate_name):\n",
    "        \n",
    "        candidate = next((cand for cand in self.candidates if cand.name == candidate_name), None)\n",
    "        if candidate:\n",
    "            print(f\"Number of votes for {candidate.name}: {candidate.votes}\")\n",
    "        else:\n",
    "            print(f\"No such candidate '{candidate_name}'\")\n",
    "\n",
    "    def display_winner(self):\n",
    "        if not self.candidates:\n",
    "            print(\"No candidates available.\")\n",
    "            return\n",
    "        \n",
    "        winner = max(self.candidates, key=lambda candidate: candidate.votes)\n",
    "        print(f\"The winner is '{winner.name}' with {winner.votes} votes.\")\n",
    "\n",
    "    def show_candidates(self):\n",
    "        \n",
    "        print(\"Candidates:\", [candidate.name for candidate in self.candidates])\n",
    "\n",
    "\n",
    "\n",
    "voting_system = VotingSystem()\n",
    "\n",
    "\n",
    "voting_system.add_candidate(\"Ali\")\n",
    "voting_system.add_candidate(\"Sara\")\n",
    "voting_system.add_candidate(\"Ahmed\")\n",
    "\n",
    "\n",
    "voting_system.show_candidates()\n",
    "\n",
    "\n",
    "voting_system.vote_for_candidate(\"Ali\")\n",
    "voting_system.vote_for_candidate(\"Ali\")\n",
    "voting_system.vote_for_candidate(\"Sara\")\n",
    "voting_system.vote_for_candidate(\"Sara\")\n",
    "voting_system.vote_for_candidate(\"Ali\")\n",
    "voting_system.vote_for_candidate(\"Ahmed\")\n",
    "voting_system.vote_for_candidate(\"Rahma\")\n",
    "\n",
    "\n",
    "voting_system.get_result_of_candidate(\"Ali\")\n",
    "voting_system.get_result_of_candidate(\"Sara\")\n",
    "voting_system.get_result_of_candidate(\"Ahmed\")\n",
    "voting_system.get_result_of_candidate(\"Rahma\")\n",
    "\n",
    "\n",
    "voting_system.display_winner()\n"
   ]
  },
  {
   "cell_type": "code",
   "execution_count": null,
   "id": "a7bf9109",
   "metadata": {},
   "outputs": [],
   "source": []
  },
  {
   "cell_type": "code",
   "execution_count": null,
   "id": "bb4e2109",
   "metadata": {},
   "outputs": [],
   "source": []
  }
 ],
 "metadata": {
  "kernelspec": {
   "display_name": "Python 3 (ipykernel)",
   "language": "python",
   "name": "python3"
  },
  "language_info": {
   "codemirror_mode": {
    "name": "ipython",
    "version": 3
   },
   "file_extension": ".py",
   "mimetype": "text/x-python",
   "name": "python",
   "nbconvert_exporter": "python",
   "pygments_lexer": "ipython3",
   "version": "3.11.5"
  }
 },
 "nbformat": 4,
 "nbformat_minor": 5
}
